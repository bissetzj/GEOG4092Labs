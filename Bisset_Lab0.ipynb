{
 "cells": [
  {
   "cell_type": "markdown",
   "id": "40d8bcc9-21ac-47e2-ab02-f4daccb64966",
   "metadata": {
    "tags": []
   },
   "source": [
    "## Lab 0\n",
    "### GEOG 4092\n",
    "### Zoe Bisset"
   ]
  },
  {
   "cell_type": "markdown",
   "id": "ae23a115-8b0a-472f-9173-5605a5f43ee2",
   "metadata": {},
   "source": [
    "**Part 1:**\n",
    "\n",
    "Create a list of hypothetical file names using a for loop:\n",
    "\n",
    "a. Create a list with the following strings as elements: 'roads', 'cities', 'counties', 'states'\n",
    "\n",
    "b. Create an empty list and then populate it by concatenating each of the strings above with '.txt'. This should result in a list of strings ending in .txt (e.g. 'roads.txt',etc.)."
   ]
  },
  {
   "cell_type": "code",
   "execution_count": 1,
   "id": "e02ef5ea-e2c6-42eb-b508-b11cd382c97c",
   "metadata": {},
   "outputs": [
    {
     "name": "stdout",
     "output_type": "stream",
     "text": [
      "['roads', 'cities', 'counties', 'states']\n"
     ]
    }
   ],
   "source": [
    "list = ['roads', 'cities', 'counties', 'states']\n",
    "print(list)"
   ]
  },
  {
   "cell_type": "code",
   "execution_count": 2,
   "id": "11801784-6041-4bf4-b9c1-19e64c679d61",
   "metadata": {},
   "outputs": [
    {
     "name": "stdout",
     "output_type": "stream",
     "text": [
      "['roads.txt', 'cities.txt', 'counties.txt', 'states.txt']\n"
     ]
    }
   ],
   "source": [
    "list2 = []\n",
    "\n",
    "for i in list:\n",
    "    list2.append(i + '.txt')\n",
    "    \n",
    "print(list2)"
   ]
  },
  {
   "cell_type": "markdown",
   "id": "facec030-37e6-4fce-ae0d-766dab4b21ed",
   "metadata": {},
   "source": [
    "**Part 2:**\n",
    "\n",
    "Write a while loop that raises the mathematical constant pi to its powers until the result is greater than 10,000 ($pi^0 , pi^1, etc.$).\n",
    "\n",
    "HINT: You will need to import the math module. What condition are you testing?"
   ]
  },
  {
   "cell_type": "code",
   "execution_count": 3,
   "id": "965800da-970f-4ed6-ab73-a47d29435734",
   "metadata": {},
   "outputs": [
    {
     "name": "stdout",
     "output_type": "stream",
     "text": [
      "pi to the power of 8  =  9488.53101607057\n",
      "pi to the power of 9  =  29809.0993334462 , which is greater than 10,000\n"
     ]
    }
   ],
   "source": [
    "import math\n",
    "\n",
    "p = 0\n",
    "a = 0\n",
    "\n",
    "while a<=10000:\n",
    "    a = math.pi**p\n",
    "    p += 1\n",
    "    \n",
    "print(\"pi to the power of\", p-2, \" = \", math.pi**(p-2))\n",
    "print(\"pi to the power of\", p-1, \" = \", a, \", which is greater than 10,000\")"
   ]
  },
  {
   "cell_type": "markdown",
   "id": "5a471afb-8078-45e8-9e44-9b38838d8341",
   "metadata": {},
   "source": [
    "**Optional Challenge:**\n",
    "\n",
    "Open the file lab0.txt from the data folder and read the lines of the file. Then convert each element into a float type using a list comprehension (i.e. the result will be a list of floating point numbers)."
   ]
  },
  {
   "cell_type": "code",
   "execution_count": 4,
   "id": "cdf34271-c855-4845-b57d-b7651a159c93",
   "metadata": {},
   "outputs": [
    {
     "name": "stdout",
     "output_type": "stream",
     "text": [
      "[1.474, 2.863, 2.959, 3.758, 4.49, 4.963, 5.128, 5.265, 5.822, 6.201, 7.033, 7.83]\n"
     ]
    }
   ],
   "source": [
    "f = open('lab0.txt', 'r') \n",
    "data = f.read()\n",
    "strings = data.split(\"\\n\")\n",
    "floats = [float(x) for x in strings]\n",
    "print(floats)\n",
    "f.close()"
   ]
  }
 ],
 "metadata": {
  "kernelspec": {
   "display_name": "Python 3.8.13 ('geog4092')",
   "language": "python",
   "name": "python3"
  },
  "language_info": {
   "codemirror_mode": {
    "name": "ipython",
    "version": 3
   },
   "file_extension": ".py",
   "mimetype": "text/x-python",
   "name": "python",
   "nbconvert_exporter": "python",
   "pygments_lexer": "ipython3",
   "version": "3.8.13"
  },
  "vscode": {
   "interpreter": {
    "hash": "ffc4e3dabd8f0386813ddf117a56090b89b03103d1320970e81722e6a156df62"
   }
  }
 },
 "nbformat": 4,
 "nbformat_minor": 5
}
